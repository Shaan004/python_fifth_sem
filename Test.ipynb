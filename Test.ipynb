{
 "cells": [
  {
   "cell_type": "markdown",
   "id": "09ed8697-4d8b-4202-b2bb-ddfbf30e746e",
   "metadata": {},
   "source": [
    "Q1.    Optimisation This is the process of finding the best solution or the most efficient way to solve a problem from a set of possible solutions. It involves finding the maximum or minimum value of a function, subject to certain constraints or conditions.\n",
    "\n",
    "  Types of Optimization are as follows:\n",
    "\n",
    "a.    Constrained Optimisation:Involves finding the best solution while adhering to a set of constraints, which can be equations or inequalities that the solution must satisfy.\n",
    "b.    Unconstrained Optimisation:\n",
    "Involves finding the best solution without any restrictions on the variables, meaning the solution space is not limited by constraints.\n",
    "c.    Linear Optimisation (Linear Programming):Involves an objective function and constraints that are linear, meaning both are represented by linear equations and inequalities.\n",
    "d.    Non-Linear Optimisation:Involves an objective function or constraints that are non-linear, making the problem more complex due to non-linear relationships.\n",
    "e.    Discrete Optimisation:Involves variables that can only take on discrete values, often integers, and is commonly applied in scenarios like scheduling and resource allocation."
   ]
  },
  {
   "cell_type": "code",
   "execution_count": 1,
   "id": "bd615025-ed7d-4f02-9f2c-5c85631e7f33",
   "metadata": {},
   "outputs": [
    {
     "name": "stdout",
     "output_type": "stream",
     "text": [
      "Minimum value of the function: -1.2499999999999991\n",
      "Optimal values of x and y: [-1.49999997 -2.00000001]\n"
     ]
    }
   ],
   "source": [
    "# 2. write a python program to minimize the function: x^2+y^2+3x+4y+5\n",
    "\n",
    "import numpy as np\n",
    "from scipy.optimize import minimize\n",
    "\n",
    "\n",
    "def func(xy):\n",
    "    x, y = xy\n",
    "    return x**2 + y**2 + 3*x + 4*y + 5\n",
    "\n",
    "initial_guess = [0, 0]\n",
    "\n",
    "\n",
    "result = minimize(func, initial_guess)\n",
    "\n",
    "print(\"Minimum value of the function:\", result.fun)\n",
    "print(\"Optimal values of x and y:\", result.x)"
   ]
  },
  {
   "cell_type": "code",
   "execution_count": null,
   "id": "2523a615-f155-415b-8d1f-f49cd67104e3",
   "metadata": {},
   "outputs": [],
   "source": []
  }
 ],
 "metadata": {
  "kernelspec": {
   "display_name": "Python 3 (ipykernel)",
   "language": "python",
   "name": "python3"
  },
  "language_info": {
   "codemirror_mode": {
    "name": "ipython",
    "version": 3
   },
   "file_extension": ".py",
   "mimetype": "text/x-python",
   "name": "python",
   "nbconvert_exporter": "python",
   "pygments_lexer": "ipython3",
   "version": "3.12.5"
  }
 },
 "nbformat": 4,
 "nbformat_minor": 5
}
